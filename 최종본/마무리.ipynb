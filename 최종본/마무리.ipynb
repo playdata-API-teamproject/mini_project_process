{
 "metadata": {
  "language_info": {
   "codemirror_mode": {
    "name": "ipython",
    "version": 3
   },
   "file_extension": ".py",
   "mimetype": "text/x-python",
   "name": "python",
   "nbconvert_exporter": "python",
   "pygments_lexer": "ipython3",
   "version": "3.8.3-final"
  },
  "orig_nbformat": 2,
  "kernelspec": {
   "name": "python3",
   "display_name": "Python 3.8.3 64-bit",
   "metadata": {
    "interpreter": {
     "hash": "5fa5ee42bf3228b81d4a8abbd34e3ac789ee757ba3f727da7fa189fb0ce61fcf"
    }
   }
  }
 },
 "nbformat": 4,
 "nbformat_minor": 2,
 "cells": [
  {
   "cell_type": "code",
   "execution_count": 1,
   "metadata": {},
   "outputs": [
    {
     "output_type": "stream",
     "name": "stdout",
     "text": [
      "Overwriting d:\\myPyCode\\팀프로젝트\\netflix_streaming_API_module.py\n"
     ]
    }
   ],
   "source": [
    "%%writefile d:\\myPyCode\\팀프로젝트\\netflix_streaming_API_module.py\n",
    "\n",
    "import pandas as pd\n",
    "import numpy as np\n",
    "from matplotlib import pyplot as plt\n",
    "import csv\n",
    "from matplotlib import font_manager, rc\n",
    "\n",
    "df = pd.read_csv(\"All_Streaming_Shows.csv\",encoding=\"latin1\")\n",
    "select = pd.DataFrame(df)\n",
    "select = select.fillna(method='ffill')\n",
    "\n",
    "def netflix_API_data_init():\n",
    "    df = pd.read_csv(\"All_Streaming_Shows.csv\",encoding=\"latin1\")\n",
    "    select = pd.DataFrame(df)\n",
    "    select = select.fillna(method='ffill')\n",
    "    return select\n",
    "\n",
    "# 날짜별순으로 값 원하는 값 뽑아내기 (type과 key값 )\n",
    "def netflix_API_data_findint(select_col,Name,wants_type_standard) :\n",
    "    #select.sort_values(by = ['release_year','date_added']) 날짜별로 구분하기\n",
    "    selection = select[select[select_col] == Name].sort_values(by = wants_type_standard)\n",
    "    #select[select[select_col] == Name] Name과 같은 select key값을 뽑아낸다.\n",
    "    return selection\n",
    "\n",
    "# 날짜순으로 타입안에 원하는 문자포함되어 있는 행 뽑아내기\n",
    "def netflix_API_data_findword(netflix_framedata,position,Name,wants_type_standard) :\n",
    "    find_line = netflix_framedata.loc[netflix_framedata[position].str.contains(Name)].sort_values(by= \n",
    "    wants_type_standard)\n",
    "    return find_line\n",
    "\n",
    "# 중복 없이 타입 뽑아내기\n",
    "def API_remove_overlap(netflix_data,netflix_want_name):\n",
    "    list_module = []\n",
    "    netflix_data_find = set(list(netflix_data[netflix_want_name]))\n",
    "    for i in netflix_data_find :\n",
    "        list_module.append(i)\n",
    "    return list_module\n",
    "\n",
    "# 데이터프레임에서 반복 갯수세기\n",
    "def API_netflix_count(netflix_dataframe,collect_type) :\n",
    "    collect_lists = netflix_dataframe[collect_type].value_counts()\n",
    "    return collect_lists\n",
    "\n",
    "def graph_step5(select,years_listed_in,Genre_lists,streamings,colors):\n",
    "    streaming_data = pd.DataFrame()\n",
    "    # dataframe 초기 설정\n",
    "    streaming_data = streaming_data.reindex(index=streamings)\n",
    "    font_name = font_manager.FontProperties(fname=\"c:/Windows/Fonts/malgun.ttf\").get_name()\n",
    "    rc('font', family=font_name)\n",
    "    num=0\n",
    "    fig = plt.figure(figsize=(9,9)) \n",
    "\n",
    "    for years_list in years_listed_in:\n",
    "        New_select = netflix_API_data_findint('Year Released',years_list,\"Streaming Platform\")\n",
    "        streaming_data[Genre_lists] = 0\n",
    "        num=num+1\n",
    "        \n",
    "        for Genre_list in Genre_lists :\n",
    "            Genres_count= {}\n",
    "            #원하는장르포함 모든 행 뽑기\n",
    "            listed_in_pullout = netflix_API_data_findword(New_select,'Genre', Genre_list, 'Year Released')\n",
    "            # 시대별 기준으로 나누기\n",
    "            listed_in_count = API_netflix_count(listed_in_pullout,'Streaming Platform') \n",
    "            # 아이템으로 정렬하면 key값을 정렬가능\n",
    "            listed_in_count = dict(sorted(listed_in_count.items(),reverse=True))\n",
    "            \n",
    "            for streaming in streamings :\n",
    "                Genre_countcount=0\n",
    "                for list_in_count in listed_in_count.keys() :\n",
    "                    if streaming in list_in_count :\n",
    "                        Genre_countcount = Genre_countcount + int(listed_in_count[list_in_count])\n",
    "                    Genres_count[streaming]=Genre_countcount\n",
    "                    streaming_data.loc[streaming,[Genre_list]]=Genres_count[streaming]\n",
    "            \n",
    "            \n",
    "        # ax = streaming_data.plot(kind='bar',stacked=True,fontsize=5,ax=fig.add_subplot(1,3,num))\n",
    "        ax = streaming_data.plot(kind='bar',stacked=True,fontsize=5,color=colors)\n",
    "        # plt.ylabel(Genre_list,rotation=0,fontsize=8,loc='top')\n",
    "        plt.xticks(rotation =30,fontsize=10)\n",
    "        plt.legend(loc='best',fontsize=8,shadow = True)\n",
    "        plt.title(str(years_list)+'년 장르별 스트리밍 비교',fontsize=10)\n",
    "        #https://kongdols-room.tistory.com/86"
   ]
  },
  {
   "cell_type": "code",
   "execution_count": 2,
   "metadata": {},
   "outputs": [
    {
     "output_type": "stream",
     "name": "stdout",
     "text": [
      "Overwriting d:\\myPyCode\\팀프로젝트\\netflix_frame_module.py\n"
     ]
    }
   ],
   "source": [
    "%%writefile d:\\myPyCode\\팀프로젝트\\netflix_frame_module.py\n",
    "\n",
    "\n",
    "import pandas as pd\n",
    "import numpy as np\n",
    "from matplotlib import pyplot as plt\n",
    "import csv\n",
    "import seaborn as sns\n",
    "import json\n",
    "\n",
    "\n",
    "df = pd.read_csv(\"netflix_titles.csv\",encoding=\"latin1\")\n",
    "select = pd.DataFrame(df,columns = ['show_id', 'type', 'title','country', 'date_added','release_year', 'rating',\n",
    "'duration','listed_in', 'description'])\n",
    "# 빈 값 처리\n",
    "select = select.fillna(method='ffill')\n",
    "\n",
    "\n",
    "class graph_1():\n",
    "    \n",
    "\n",
    "\n",
    "\n",
    "\n",
    "class graph_2():\n",
    "\n",
    "\n",
    "\n",
    "\n",
    "class graph_3():\n",
    "\n",
    "\n",
    "\n",
    "\n",
    "class graph_4():\n",
    "\n",
    "\n",
    "\n",
    "\n"
   ]
  },
  {
   "cell_type": "code",
   "execution_count": 3,
   "metadata": {},
   "outputs": [
    {
     "output_type": "stream",
     "name": "stdout",
     "text": [
      "d:\\myPyCode\\팀프로젝트\n"
     ]
    }
   ],
   "source": [
    "cd d:\\myPyCode\\팀프로젝트"
   ]
  },
  {
   "cell_type": "code",
   "execution_count": 4,
   "metadata": {},
   "outputs": [
    {
     "output_type": "error",
     "ename": "AttributeError",
     "evalue": "Can only use .str accessor with string values!",
     "traceback": [
      "\u001b[1;31m---------------------------------------------------------------------------\u001b[0m",
      "\u001b[1;31mAttributeError\u001b[0m                            Traceback (most recent call last)",
      "\u001b[1;32m<ipython-input-4-d4577e70c2a8>\u001b[0m in \u001b[0;36m<module>\u001b[1;34m\u001b[0m\n\u001b[0;32m     40\u001b[0m \u001b[1;31m# grape_step1(netflix_data,movie_listed_in,years_country_listed_in,country_listed_in,color)\u001b[0m\u001b[1;33m\u001b[0m\u001b[1;33m\u001b[0m\u001b[1;33m\u001b[0m\u001b[0m\n\u001b[0;32m     41\u001b[0m \u001b[1;31m# grape_step3(netflix_data,years_age_listed_in,country_listed_in,TV_list,color)\u001b[0m\u001b[1;33m\u001b[0m\u001b[1;33m\u001b[0m\u001b[1;33m\u001b[0m\u001b[0m\n\u001b[1;32m---> 42\u001b[1;33m \u001b[0mgrape_step4\u001b[0m\u001b[1;33m(\u001b[0m\u001b[0mcountry_listed_in\u001b[0m\u001b[1;33m,\u001b[0m\u001b[0mmovie_listed_in\u001b[0m\u001b[1;33m,\u001b[0m\u001b[0mTV_list\u001b[0m\u001b[1;33m)\u001b[0m\u001b[1;33m\u001b[0m\u001b[1;33m\u001b[0m\u001b[0m\n\u001b[0m\u001b[0;32m     43\u001b[0m \u001b[1;31m# grape_step5(API_select,API_years_listed_in,API_Genre_lists,streamings,color)\u001b[0m\u001b[1;33m\u001b[0m\u001b[1;33m\u001b[0m\u001b[1;33m\u001b[0m\u001b[0m\n\u001b[0;32m     44\u001b[0m \u001b[1;33m\u001b[0m\u001b[0m\n",
      "\u001b[1;32md:\\myPyCode\\팀프로젝트\\netflix_frame_module.py\u001b[0m in \u001b[0;36mgrape_step4\u001b[1;34m(country_listed_in, movie_listed_in, TV_list)\u001b[0m\n\u001b[0;32m    221\u001b[0m         \u001b[1;32mfor\u001b[0m \u001b[0myear_num\u001b[0m \u001b[1;32min\u001b[0m \u001b[0mrange\u001b[0m\u001b[1;33m(\u001b[0m\u001b[1;36m2017\u001b[0m\u001b[1;33m,\u001b[0m\u001b[1;36m2020\u001b[0m\u001b[1;33m)\u001b[0m\u001b[1;33m:\u001b[0m\u001b[1;33m\u001b[0m\u001b[1;33m\u001b[0m\u001b[0m\n\u001b[0;32m    222\u001b[0m             \u001b[1;31m# fig.add_subplot(3,3,a)\u001b[0m\u001b[1;33m\u001b[0m\u001b[1;33m\u001b[0m\u001b[1;33m\u001b[0m\u001b[0m\n\u001b[1;32m--> 223\u001b[1;33m             \u001b[0mgrape_step4_pre\u001b[0m\u001b[1;33m(\u001b[0m\u001b[0myear_num\u001b[0m\u001b[1;33m,\u001b[0m\u001b[0mcountry_list\u001b[0m\u001b[1;33m,\u001b[0m\u001b[0mnetflix_age\u001b[0m\u001b[1;33m,\u001b[0m\u001b[0mmovie_listed_in\u001b[0m\u001b[1;33m,\u001b[0m\u001b[0mTV_list\u001b[0m\u001b[1;33m)\u001b[0m\u001b[1;33m\u001b[0m\u001b[1;33m\u001b[0m\u001b[0m\n\u001b[0m\u001b[0;32m    224\u001b[0m             \u001b[1;31m# a=a+1\u001b[0m\u001b[1;33m\u001b[0m\u001b[1;33m\u001b[0m\u001b[1;33m\u001b[0m\u001b[0m\n\u001b[0;32m    225\u001b[0m \u001b[1;33m\u001b[0m\u001b[0m\n",
      "\u001b[1;32md:\\myPyCode\\팀프로젝트\\netflix_frame_module.py\u001b[0m in \u001b[0;36mgrape_step4_pre\u001b[1;34m(year, nation, netflix_age, movie_listed_in, TV_list)\u001b[0m\n\u001b[0;32m    178\u001b[0m     \u001b[0mplt\u001b[0m\u001b[1;33m.\u001b[0m\u001b[0mrc\u001b[0m\u001b[1;33m(\u001b[0m\u001b[1;34m'axes'\u001b[0m\u001b[1;33m,\u001b[0m \u001b[0municode_minus\u001b[0m\u001b[1;33m=\u001b[0m\u001b[1;32mFalse\u001b[0m\u001b[1;33m)\u001b[0m\u001b[1;33m\u001b[0m\u001b[1;33m\u001b[0m\u001b[0m\n\u001b[0;32m    179\u001b[0m     \u001b[1;31m# 년도별 뽑는다.\u001b[0m\u001b[1;33m\u001b[0m\u001b[1;33m\u001b[0m\u001b[1;33m\u001b[0m\u001b[0m\n\u001b[1;32m--> 180\u001b[1;33m     \u001b[0mselect_years\u001b[0m \u001b[1;33m=\u001b[0m \u001b[0mnetflix_data_findword\u001b[0m\u001b[1;33m(\u001b[0m\u001b[0mselect\u001b[0m\u001b[1;33m,\u001b[0m\u001b[1;34m'release_year'\u001b[0m\u001b[1;33m,\u001b[0m\u001b[0myear\u001b[0m\u001b[1;33m)\u001b[0m\u001b[1;33m\u001b[0m\u001b[1;33m\u001b[0m\u001b[0m\n\u001b[0m\u001b[0;32m    181\u001b[0m     \u001b[1;31m# 년도별로 뽑은걸 나라별로 뽑는다.\u001b[0m\u001b[1;33m\u001b[0m\u001b[1;33m\u001b[0m\u001b[1;33m\u001b[0m\u001b[0m\n\u001b[0;32m    182\u001b[0m     \u001b[0mselect_year\u001b[0m \u001b[1;33m=\u001b[0m \u001b[0mselect_years\u001b[0m\u001b[1;33m[\u001b[0m\u001b[0mselect_years\u001b[0m\u001b[1;33m[\u001b[0m\u001b[1;34m'country'\u001b[0m\u001b[1;33m]\u001b[0m \u001b[1;33m==\u001b[0m \u001b[0mnation\u001b[0m\u001b[1;33m]\u001b[0m\u001b[1;33m.\u001b[0m\u001b[0msort_values\u001b[0m\u001b[1;33m(\u001b[0m\u001b[0mby\u001b[0m \u001b[1;33m=\u001b[0m \u001b[1;33m[\u001b[0m\u001b[1;34m'release_year'\u001b[0m\u001b[1;33m,\u001b[0m\u001b[1;34m'date_added'\u001b[0m\u001b[1;33m]\u001b[0m\u001b[1;33m)\u001b[0m\u001b[1;33m\u001b[0m\u001b[1;33m\u001b[0m\u001b[0m\n",
      "\u001b[1;32md:\\myPyCode\\팀프로젝트\\netflix_frame_module.py\u001b[0m in \u001b[0;36mnetflix_data_findword\u001b[1;34m(netflix_framedata, position, Name)\u001b[0m\n\u001b[0;32m     31\u001b[0m \u001b[1;31m# 날짜순으로 타입안에 원하는 문자포함되어 있는 행 뽑아내기\u001b[0m\u001b[1;33m\u001b[0m\u001b[1;33m\u001b[0m\u001b[1;33m\u001b[0m\u001b[0m\n\u001b[0;32m     32\u001b[0m \u001b[1;32mdef\u001b[0m \u001b[0mnetflix_data_findword\u001b[0m\u001b[1;33m(\u001b[0m\u001b[0mnetflix_framedata\u001b[0m\u001b[1;33m,\u001b[0m\u001b[0mposition\u001b[0m\u001b[1;33m,\u001b[0m\u001b[0mName\u001b[0m\u001b[1;33m)\u001b[0m \u001b[1;33m:\u001b[0m\u001b[1;33m\u001b[0m\u001b[1;33m\u001b[0m\u001b[0m\n\u001b[1;32m---> 33\u001b[1;33m     find_line = netflix_framedata.loc[netflix_framedata[position].str.contains(Name)].sort_values(by= \n\u001b[0m\u001b[0;32m     34\u001b[0m     ['release_year','date_added'])\n\u001b[0;32m     35\u001b[0m     \u001b[1;32mreturn\u001b[0m \u001b[0mfind_line\u001b[0m\u001b[1;33m\u001b[0m\u001b[1;33m\u001b[0m\u001b[0m\n",
      "\u001b[1;32mD:\\phython\\lib\\site-packages\\pandas\\core\\generic.py\u001b[0m in \u001b[0;36m__getattr__\u001b[1;34m(self, name)\u001b[0m\n\u001b[0;32m   5133\u001b[0m             \u001b[1;32mor\u001b[0m \u001b[0mname\u001b[0m \u001b[1;32min\u001b[0m \u001b[0mself\u001b[0m\u001b[1;33m.\u001b[0m\u001b[0m_accessors\u001b[0m\u001b[1;33m\u001b[0m\u001b[1;33m\u001b[0m\u001b[0m\n\u001b[0;32m   5134\u001b[0m         ):\n\u001b[1;32m-> 5135\u001b[1;33m             \u001b[1;32mreturn\u001b[0m \u001b[0mobject\u001b[0m\u001b[1;33m.\u001b[0m\u001b[0m__getattribute__\u001b[0m\u001b[1;33m(\u001b[0m\u001b[0mself\u001b[0m\u001b[1;33m,\u001b[0m \u001b[0mname\u001b[0m\u001b[1;33m)\u001b[0m\u001b[1;33m\u001b[0m\u001b[1;33m\u001b[0m\u001b[0m\n\u001b[0m\u001b[0;32m   5136\u001b[0m         \u001b[1;32melse\u001b[0m\u001b[1;33m:\u001b[0m\u001b[1;33m\u001b[0m\u001b[1;33m\u001b[0m\u001b[0m\n\u001b[0;32m   5137\u001b[0m             \u001b[1;32mif\u001b[0m \u001b[0mself\u001b[0m\u001b[1;33m.\u001b[0m\u001b[0m_info_axis\u001b[0m\u001b[1;33m.\u001b[0m\u001b[0m_can_hold_identifiers_and_holds_name\u001b[0m\u001b[1;33m(\u001b[0m\u001b[0mname\u001b[0m\u001b[1;33m)\u001b[0m\u001b[1;33m:\u001b[0m\u001b[1;33m\u001b[0m\u001b[1;33m\u001b[0m\u001b[0m\n",
      "\u001b[1;32mD:\\phython\\lib\\site-packages\\pandas\\core\\accessor.py\u001b[0m in \u001b[0;36m__get__\u001b[1;34m(self, obj, cls)\u001b[0m\n\u001b[0;32m    185\u001b[0m             \u001b[1;31m# we're accessing the attribute of the class, i.e., Dataset.geo\u001b[0m\u001b[1;33m\u001b[0m\u001b[1;33m\u001b[0m\u001b[1;33m\u001b[0m\u001b[0m\n\u001b[0;32m    186\u001b[0m             \u001b[1;32mreturn\u001b[0m \u001b[0mself\u001b[0m\u001b[1;33m.\u001b[0m\u001b[0m_accessor\u001b[0m\u001b[1;33m\u001b[0m\u001b[1;33m\u001b[0m\u001b[0m\n\u001b[1;32m--> 187\u001b[1;33m         \u001b[0maccessor_obj\u001b[0m \u001b[1;33m=\u001b[0m \u001b[0mself\u001b[0m\u001b[1;33m.\u001b[0m\u001b[0m_accessor\u001b[0m\u001b[1;33m(\u001b[0m\u001b[0mobj\u001b[0m\u001b[1;33m)\u001b[0m\u001b[1;33m\u001b[0m\u001b[1;33m\u001b[0m\u001b[0m\n\u001b[0m\u001b[0;32m    188\u001b[0m         \u001b[1;31m# Replace the property with the accessor object. Inspired by:\u001b[0m\u001b[1;33m\u001b[0m\u001b[1;33m\u001b[0m\u001b[1;33m\u001b[0m\u001b[0m\n\u001b[0;32m    189\u001b[0m         \u001b[1;31m# https://www.pydanny.com/cached-property.html\u001b[0m\u001b[1;33m\u001b[0m\u001b[1;33m\u001b[0m\u001b[1;33m\u001b[0m\u001b[0m\n",
      "\u001b[1;32mD:\\phython\\lib\\site-packages\\pandas\\core\\strings.py\u001b[0m in \u001b[0;36m__init__\u001b[1;34m(self, data)\u001b[0m\n\u001b[0;32m   2098\u001b[0m \u001b[1;33m\u001b[0m\u001b[0m\n\u001b[0;32m   2099\u001b[0m     \u001b[1;32mdef\u001b[0m \u001b[0m__init__\u001b[0m\u001b[1;33m(\u001b[0m\u001b[0mself\u001b[0m\u001b[1;33m,\u001b[0m \u001b[0mdata\u001b[0m\u001b[1;33m)\u001b[0m\u001b[1;33m:\u001b[0m\u001b[1;33m\u001b[0m\u001b[1;33m\u001b[0m\u001b[0m\n\u001b[1;32m-> 2100\u001b[1;33m         \u001b[0mself\u001b[0m\u001b[1;33m.\u001b[0m\u001b[0m_inferred_dtype\u001b[0m \u001b[1;33m=\u001b[0m \u001b[0mself\u001b[0m\u001b[1;33m.\u001b[0m\u001b[0m_validate\u001b[0m\u001b[1;33m(\u001b[0m\u001b[0mdata\u001b[0m\u001b[1;33m)\u001b[0m\u001b[1;33m\u001b[0m\u001b[1;33m\u001b[0m\u001b[0m\n\u001b[0m\u001b[0;32m   2101\u001b[0m         \u001b[0mself\u001b[0m\u001b[1;33m.\u001b[0m\u001b[0m_is_categorical\u001b[0m \u001b[1;33m=\u001b[0m \u001b[0mis_categorical_dtype\u001b[0m\u001b[1;33m(\u001b[0m\u001b[0mdata\u001b[0m\u001b[1;33m.\u001b[0m\u001b[0mdtype\u001b[0m\u001b[1;33m)\u001b[0m\u001b[1;33m\u001b[0m\u001b[1;33m\u001b[0m\u001b[0m\n\u001b[0;32m   2102\u001b[0m         \u001b[0mself\u001b[0m\u001b[1;33m.\u001b[0m\u001b[0m_is_string\u001b[0m \u001b[1;33m=\u001b[0m \u001b[0mdata\u001b[0m\u001b[1;33m.\u001b[0m\u001b[0mdtype\u001b[0m\u001b[1;33m.\u001b[0m\u001b[0mname\u001b[0m \u001b[1;33m==\u001b[0m \u001b[1;34m\"string\"\u001b[0m\u001b[1;33m\u001b[0m\u001b[1;33m\u001b[0m\u001b[0m\n",
      "\u001b[1;32mD:\\phython\\lib\\site-packages\\pandas\\core\\strings.py\u001b[0m in \u001b[0;36m_validate\u001b[1;34m(data)\u001b[0m\n\u001b[0;32m   2155\u001b[0m \u001b[1;33m\u001b[0m\u001b[0m\n\u001b[0;32m   2156\u001b[0m         \u001b[1;32mif\u001b[0m \u001b[0minferred_dtype\u001b[0m \u001b[1;32mnot\u001b[0m \u001b[1;32min\u001b[0m \u001b[0mallowed_types\u001b[0m\u001b[1;33m:\u001b[0m\u001b[1;33m\u001b[0m\u001b[1;33m\u001b[0m\u001b[0m\n\u001b[1;32m-> 2157\u001b[1;33m             \u001b[1;32mraise\u001b[0m \u001b[0mAttributeError\u001b[0m\u001b[1;33m(\u001b[0m\u001b[1;34m\"Can only use .str accessor with string values!\"\u001b[0m\u001b[1;33m)\u001b[0m\u001b[1;33m\u001b[0m\u001b[1;33m\u001b[0m\u001b[0m\n\u001b[0m\u001b[0;32m   2158\u001b[0m         \u001b[1;32mreturn\u001b[0m \u001b[0minferred_dtype\u001b[0m\u001b[1;33m\u001b[0m\u001b[1;33m\u001b[0m\u001b[0m\n\u001b[0;32m   2159\u001b[0m \u001b[1;33m\u001b[0m\u001b[0m\n",
      "\u001b[1;31mAttributeError\u001b[0m: Can only use .str accessor with string values!"
     ]
    }
   ],
   "source": [
    "%matplotlib tk\n",
    "\n",
    "import pandas as pd\n",
    "import numpy as np\n",
    "from matplotlib import pyplot as plt\n",
    "from netflix_frame_module import *\n",
    "import seaborn as sns\n",
    "# import json\n",
    "# from netflix_Unofficial_API_module import *\n",
    "from netflix_streaming_API_module import *\n",
    "\n",
    "font_name = font_manager.FontProperties(fname=\"c:/Windows/Fonts/malgun.ttf\").get_name()\n",
    "# rc('font', family=font_name) \n",
    "#font깨짐 해결\n",
    "\n",
    "movie_listed_in = ['Comed','Independ','Drama','International']\n",
    "\n",
    "color = sns.color_palette('Set1')\n",
    "# color = 'black'\n",
    "#https://matplotlib.org/3.1.1/gallery/color/colormap_reference.html 참조\n",
    "\n",
    "years_country_listed_in = list(range(2010,2020))\n",
    "years_age_listed_in = list(range(2016,2021))\n",
    "country_listed_in = ['United States','South Korea','United Kingdom']\n",
    "\n",
    "API_years_listed_in = range(2017,2020)\n",
    "streamings = ['Netflix','Free Services','Prime Video','Hulu']\n",
    "API_Genre_lists =  ['Comed','Animation','Drama','Adventure']\n",
    "TV_list = {\"Everyone\":['G','TV-G','PG','PG-13'],\"2-6 years old only\":['TV-Y'],\"7 years old only\":['TV-Y7-FV','TV-Y7'],\"14 years or older\":['TV-14','TV-PG'],\"18 years or older\":['R','TV-MA','NC-17','UR','NR']}\n",
    "API_select = netflix_API_data_init()\n",
    "\n",
    "\n",
    "# 초기 데이터\n",
    "netflix_data = netflix_data_init()\n",
    "# 데이터 프레임 null 값 처리하기\n",
    "netflix_data = netflix_data.fillna(method='ffill')\n",
    "\n",
    "# graph_step1(netflix_data,movie_listed_in,years_country_listed_in,country_listed_in,color)\n",
    "# graph_step3(netflix_data,years_age_listed_in,country_listed_in,TV_list,color)\n",
    "# graph_step4(country_listed_in,movie_listed_in,TV_list)\n",
    "# graph_step5(API_select,API_years_listed_in,API_Genre_lists,streamings,color)\n",
    "\n",
    "\n",
    "# 뺐음 필요성을 못느낌\n",
    "# graph_step2(netflix_data,movie_listed_in,years_country_listed_in,country_listed_in,color)\n",
    "\n",
    "\n",
    "\n"
   ]
  }
 ]
}