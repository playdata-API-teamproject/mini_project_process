{
 "cells": [
  {
   "cell_type": "code",
   "execution_count": 5,
   "metadata": {},
   "outputs": [
    {
     "name": "stdout",
     "output_type": "stream",
     "text": [
      "Overwriting c:\\myPyCode\\팀프로젝트\\netflix_frame_module.py\n"
     ]
    }
   ],
   "source": [
    "%%writefile c:\\myPyCode\\팀프로젝트\\netflix_frame_module.py\n",
    "\n",
    "import pandas as pd\n",
    "import numpy as np\n",
    "from matplotlib import pyplot as plt\n",
    "import csv\n",
    "\n",
    "df = pd.read_csv(\"netflix_titles.csv\",encoding=\"latin1\")\n",
    "select = pd.DataFrame(df,columns = ['show_id', 'type', 'title', 'date_added','release_year', 'rating',    \n",
    "'duration','listed_in', 'description'])\n",
    "\n",
    "# 날짜별순으로 값 원하는 값 뽑아내기 (type과 key값 )\n",
    "def netflix_date_selection(select_col,Name) :\n",
    "    #select.sort_values(by = ['release_year','date_added']) 날짜별로 구분하기\n",
    "    selection = select[select[select_col] == Name].sort_values(by = ['release_year','date_added'])\n",
    "    #select[select[select_col] == Name] Name과 같은 select key값을 뽑아낸다.\n",
    "    return selection\n",
    "\n",
    "# 날짜순으로 타입안에 원하는 문자포함되어 있는 행 뽑아내기\n",
    "def netflix_data_findword(position,Name) :\n",
    "    find_line = select.loc[select[position].str.contains(Name)].sort_values(by = ['release_year','date_added'])\n",
    "    return find_line\n",
    "\n",
    "# 데이터프레임에서 반복 갯수세기\n",
    "def netflix_count(netflix_dataframe,collect_type) :\n",
    "    collect_lists = netflix_dataframe[collect_type].value_counts()\n",
    "    return collect_lists\n",
    "\n",
    "# def circle_grape(label_X,label_Y):\n",
    "#     plt.pie(label_X)\n",
    "#     plt.pie(label_X, labels=label_Y, autopct='%0.1f%%')\n",
    "#     plt.show()\n",
    "\n",
    "def analyze_netflix_year(data_X,data_Y,data_title):\n",
    "    p1 = plt.plot(data_X,data_Y,'r^--',label=data_title)\n",
    "    plt.legend()\n",
    "    plt.show()\n",
    "\n",
    "\n",
    "# 산점도 그래프 그리기\n",
    "def circle_3D_grape(X,Y,Z):\n",
    "    ax = plt.figure().add_subplot(111,projection='3d')\n",
    "    ax.scatter(X,Y,Z)\n",
    "\n",
    "    ax.set_xlabel('year')\n",
    "    ax.set_ylabel('type')\n",
    "    ax.set_zlabel('age')\n",
    "    plt.suptitle('aaaa',fontsize=16)\n",
    "    plt.show()"
   ]
  },
  {
   "cell_type": "code",
   "execution_count": 6,
   "metadata": {},
   "outputs": [
    {
     "name": "stdout",
     "output_type": "stream",
     "text": [
      "c:\\myPyCode\\팀프로젝트\n"
     ]
    }
   ],
   "source": [
    "cd c:\\myPyCode\\팀프로젝트"
   ]
  },
  {
   "cell_type": "code",
   "execution_count": 8,
   "metadata": {},
   "outputs": [],
   "source": [
    "%matplotlib tk\n",
    "\n",
    "import pandas as pd\n",
    "import numpy as np\n",
    "from matplotlib import pyplot as plt\n",
    "from netflix_frame_module import *\n",
    "from netflix_Unofficial_API_module import netflix_init\n",
    "\n",
    "comedy_lists = []\n",
    "comedy_count = []\n",
    "\n",
    "comedy_pullout = netflix_data_findword('listed_in','Comed')\n",
    "comedy_count = netflix_count(comedy_pullout,'release_year')\n",
    "comedy_lists = netflix_count(comedy_pullout,'release_year').keys()\n",
    "comedy_count = dict(sorted(comedy_count.items(),reverse=True))\n",
    "analyze_netflix_year(list(comedy_count.keys()),list(comedy_count.values()),'comedy')\n",
    "\n",
    "# plt.subplot(2,2,1)\n",
    "# circle_grape(comedy_count,comedy_lists)\n",
    "# plt.title(\"comedy\")\n",
    "# plt.subplot(2,2,2)\n",
    "# circle_grape(comedy_count,comedy_lists)"
   ]
  },
  {
   "cell_type": "code",
   "execution_count": 15,
   "metadata": {},
   "outputs": [
    {
     "data": {
      "text/plain": [
       "<BarContainer object of 4 artists>"
      ]
     },
     "execution_count": 15,
     "metadata": {},
     "output_type": "execute_result"
    },
    {
     "data": {
      "image/png": "[encoded data removed]",
      "text/plain": [
       "<Figure size 432x288 with 1 Axes>"
      ]
     },
     "metadata": {
      "needs_background": "light"
     },
     "output_type": "display_data"
    }
   ],
   "source": [
    "import numpy as np\n",
    "import matplotlib.pyplot as plt\n",
    "\n",
    "a= np.array([[5.,30.,45.,22.],[8.,19.,40.,20.],[3.,6.,32.,18]])\n",
    "X= np.arange(4)\n",
    "\n",
    "plt.bar(X+0.00,a[0])\n",
    "plt.bar(X+0.25,a[1])\n",
    "plt.bar(X+0.50,a[2])"
   ]
  },
  {
   "cell_type": "code",
   "execution_count": 22,
   "metadata": {
    "scrolled": true
   },
   "outputs": [
    {
     "data": {
      "text/plain": [
       "<BarContainer object of 4 artists>"
      ]
     },
     "execution_count": 22,
     "metadata": {},
     "output_type": "execute_result"
    },
    {
     "data": {
      "image/png": "[encoded data removed]",
      "text/plain": [
       "<Figure size 432x288 with 1 Axes>"
      ]
     },
     "metadata": {
      "needs_background": "light"
     },
     "output_type": "display_data"
    }
   ],
   "source": [
    "import numpy as np\n",
    "import matplotlib.pyplot as plt\n",
    "\n",
    "a= np.array([[5,30,45,22],[8,19,40,20],[3,6,32,18]])\n",
    "X= np.arange(4)\n",
    "\n",
    "plt.bar(X+0.00,a[0])\n",
    "plt.bar(X+0.25,a[1])\n",
    "plt.bar(X+0.50,a[2])"
   ]
  },
  {
   "cell_type": "code",
   "execution_count": 27,
   "metadata": {},
   "outputs": [
    {
     "name": "stdout",
     "output_type": "stream",
     "text": [
      "c:\\myPyCode\\팀프로젝트\n"
     ]
    }
   ],
   "source": [
    "cd c:\\myPyCode\\팀프로젝트"
   ]
  },
  {
   "cell_type": "code",
   "execution_count": 31,
   "metadata": {},
   "outputs": [
    {
     "data": {
      "text/html": [
       "<div>\n",
       "<style scoped>\n",
       "    .dataframe tbody tr th:only-of-type {\n",
       "        vertical-align: middle;\n",
       "    }\n",
       "\n",
       "    .dataframe tbody tr th {\n",
       "        vertical-align: top;\n",
       "    }\n",
       "\n",
       "    .dataframe thead th {\n",
       "        text-align: right;\n",
       "    }\n",
       "</style>\n",
       "<table border=\"1\" class=\"dataframe\">\n",
       "  <thead>\n",
       "    <tr style=\"text-align: right;\">\n",
       "      <th></th>\n",
       "      <th>title</th>\n",
       "      <th>rating</th>\n",
       "      <th>listed_in</th>\n",
       "    </tr>\n",
       "  </thead>\n",
       "  <tbody>\n",
       "    <tr>\n",
       "      <th>0</th>\n",
       "      <td>Amar Akbar Anthony</td>\n",
       "      <td>TV-14</td>\n",
       "      <td>Action &amp; Adventure, Classic Movies, Comedies</td>\n",
       "    </tr>\n",
       "    <tr>\n",
       "      <th>1</th>\n",
       "      <td>Bad Boys</td>\n",
       "      <td>R</td>\n",
       "      <td>Action &amp; Adventure, Comedies</td>\n",
       "    </tr>\n",
       "    <tr>\n",
       "      <th>2</th>\n",
       "      <td>La Bamba</td>\n",
       "      <td>PG-13</td>\n",
       "      <td>Classic Movies, Dramas, Music &amp; Musicals</td>\n",
       "    </tr>\n",
       "    <tr>\n",
       "      <th>3</th>\n",
       "      <td>Barsaat</td>\n",
       "      <td>TV-PG</td>\n",
       "      <td>Action &amp; Adventure, International Movies, Musi...</td>\n",
       "    </tr>\n",
       "    <tr>\n",
       "      <th>4</th>\n",
       "      <td>Beavis and Butt-head Do America</td>\n",
       "      <td>PG-13</td>\n",
       "      <td>Comedies, Cult Movies</td>\n",
       "    </tr>\n",
       "    <tr>\n",
       "      <th>...</th>\n",
       "      <td>...</td>\n",
       "      <td>...</td>\n",
       "      <td>...</td>\n",
       "    </tr>\n",
       "    <tr>\n",
       "      <th>6860</th>\n",
       "      <td>Robot Trains</td>\n",
       "      <td>TV-Y7</td>\n",
       "      <td>Kids' TV, Korean TV Shows</td>\n",
       "    </tr>\n",
       "    <tr>\n",
       "      <th>6861</th>\n",
       "      <td>Kalushi: The Story of Solomon Mahlangu</td>\n",
       "      <td>TV-MA</td>\n",
       "      <td>Dramas, International Movies</td>\n",
       "    </tr>\n",
       "    <tr>\n",
       "      <th>6862</th>\n",
       "      <td>Blitz Patrollie</td>\n",
       "      <td>TV-MA</td>\n",
       "      <td>Action &amp; Adventure, Comedies, International Mo...</td>\n",
       "    </tr>\n",
       "    <tr>\n",
       "      <th>6863</th>\n",
       "      <td>Sym-Bionic Titan</td>\n",
       "      <td>TV-PG</td>\n",
       "      <td>Kids' TV</td>\n",
       "    </tr>\n",
       "    <tr>\n",
       "      <th>6864</th>\n",
       "      <td>Jezebel</td>\n",
       "      <td>TV-MA</td>\n",
       "      <td>Dramas, Independent Movies</td>\n",
       "    </tr>\n",
       "  </tbody>\n",
       "</table>\n",
       "<p>6865 rows × 3 columns</p>\n",
       "</div>"
      ],
      "text/plain": [
       "                                       title rating  \\\n",
       "0                         Amar Akbar Anthony  TV-14   \n",
       "1                                   Bad Boys      R   \n",
       "2                                   La Bamba  PG-13   \n",
       "3                                    Barsaat  TV-PG   \n",
       "4            Beavis and Butt-head Do America  PG-13   \n",
       "...                                      ...    ...   \n",
       "6860                            Robot Trains  TV-Y7   \n",
       "6861  Kalushi: The Story of Solomon Mahlangu  TV-MA   \n",
       "6862                         Blitz Patrollie  TV-MA   \n",
       "6863                        Sym-Bionic Titan  TV-PG   \n",
       "6864                                 Jezebel  TV-MA   \n",
       "\n",
       "                                              listed_in  \n",
       "0          Action & Adventure, Classic Movies, Comedies  \n",
       "1                          Action & Adventure, Comedies  \n",
       "2              Classic Movies, Dramas, Music & Musicals  \n",
       "3     Action & Adventure, International Movies, Musi...  \n",
       "4                                 Comedies, Cult Movies  \n",
       "...                                                 ...  \n",
       "6860                          Kids' TV, Korean TV Shows  \n",
       "6861                       Dramas, International Movies  \n",
       "6862  Action & Adventure, Comedies, International Mo...  \n",
       "6863                                           Kids' TV  \n",
       "6864                         Dramas, Independent Movies  \n",
       "\n",
       "[6865 rows x 3 columns]"
      ]
     },
     "execution_count": 31,
     "metadata": {},
     "output_type": "execute_result"
    }
   ],
   "source": [
    "import pandas as pd\n",
    "import numpy as np\n",
    "from matplotlib import pyplot as plt\n",
    "import csv\n",
    "\n"
   ]
  },
  {
   "cell_type": "code",
   "execution_count": 24,
   "metadata": {},
   "outputs": [
    {
     "ename": "NameError",
     "evalue": "name 'df1' is not defined",
     "output_type": "error",
     "traceback": [
      "\u001b[1;31m---------------------------------------------------------------------------\u001b[0m",
      "\u001b[1;31mNameError\u001b[0m                                 Traceback (most recent call last)",
      "\u001b[1;32m<ipython-input-24-e9fa4b6b461a>\u001b[0m in \u001b[0;36m<module>\u001b[1;34m\u001b[0m\n\u001b[0;32m      6\u001b[0m \u001b[1;33m\u001b[0m\u001b[0m\n\u001b[0;32m      7\u001b[0m \u001b[0mfig\u001b[0m\u001b[1;33m,\u001b[0m \u001b[0max\u001b[0m \u001b[1;33m=\u001b[0m \u001b[0mplt\u001b[0m\u001b[1;33m.\u001b[0m\u001b[0msubplots\u001b[0m\u001b[1;33m(\u001b[0m\u001b[1;36m1\u001b[0m\u001b[1;33m,\u001b[0m\u001b[1;36m2\u001b[0m\u001b[1;33m)\u001b[0m\u001b[1;33m\u001b[0m\u001b[1;33m\u001b[0m\u001b[0m\n\u001b[1;32m----> 8\u001b[1;33m \u001b[0mdf1\u001b[0m\u001b[1;33m.\u001b[0m\u001b[0mplot\u001b[0m\u001b[1;33m(\u001b[0m\u001b[0mkind\u001b[0m\u001b[1;33m=\u001b[0m\u001b[1;34m'bar'\u001b[0m\u001b[1;33m,\u001b[0m \u001b[0max\u001b[0m\u001b[1;33m=\u001b[0m\u001b[0max\u001b[0m\u001b[1;33m[\u001b[0m\u001b[1;36m0\u001b[0m\u001b[1;33m]\u001b[0m\u001b[1;33m)\u001b[0m    \u001b[1;31m# bar(수직막대)\u001b[0m\u001b[1;33m\u001b[0m\u001b[1;33m\u001b[0m\u001b[0m\n\u001b[0m\u001b[0;32m      9\u001b[0m \u001b[0mdf1\u001b[0m\u001b[1;33m.\u001b[0m\u001b[0mplot\u001b[0m\u001b[1;33m(\u001b[0m\u001b[0mkind\u001b[0m\u001b[1;33m=\u001b[0m\u001b[1;34m'barh'\u001b[0m\u001b[1;33m,\u001b[0m \u001b[0max\u001b[0m\u001b[1;33m=\u001b[0m\u001b[0max\u001b[0m\u001b[1;33m[\u001b[0m\u001b[1;36m1\u001b[0m\u001b[1;33m]\u001b[0m\u001b[1;33m)\u001b[0m   \u001b[1;31m# barh(수평막대)\u001b[0m\u001b[1;33m\u001b[0m\u001b[1;33m\u001b[0m\u001b[0m\n",
      "\u001b[1;31mNameError\u001b[0m: name 'df1' is not defined"
     ]
    },
    {
     "data": {
      "image/png": "[encoded data removed]",
      "text/plain": [
       "<Figure size 432x288 with 2 Axes>"
      ]
     },
     "metadata": {
      "needs_background": "light"
     },
     "output_type": "display_data"
    }
   ],
   "source": [
    "import numpy as np\n",
    "import matplotlib.pyplot as plt\n",
    "\n",
    "a= np.array([[5,30,45,22],[8,19,40,20],[3,6,32,18]])\n",
    "X= np.arange(4)\n",
    "\n",
    "fig, ax = plt.subplots(1,2)\n",
    "df1.plot(kind='bar', ax=ax[0])    # bar(수직막대)\n",
    "df1.plot(kind='barh', ax=ax[1])   # barh(수평막대)\n"
   ]
  }
 ],
 "metadata": {
  "kernelspec": {
   "display_name": "Python 3",
   "language": "python",
   "name": "python3"
  },
  "language_info": {
   "codemirror_mode": {
    "name": "ipython",
    "version": 3
   },
   "file_extension": ".py",
   "mimetype": "text/x-python",
   "name": "python",
   "nbconvert_exporter": "python",
   "pygments_lexer": "ipython3",
   "version": "3.8.3"
  }
 },
 "nbformat": 4,
 "nbformat_minor": 4
}
