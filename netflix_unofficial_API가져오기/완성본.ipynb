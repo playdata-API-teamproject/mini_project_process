{
 "metadata": {
  "language_info": {
   "codemirror_mode": {
    "name": "ipython",
    "version": 3
   },
   "file_extension": ".py",
   "mimetype": "text/x-python",
   "name": "python",
   "nbconvert_exporter": "python",
   "pygments_lexer": "ipython3",
   "version": "3.8.3-final"
  },
  "orig_nbformat": 2,
  "kernelspec": {
   "name": "Python 3.8.3 64-bit",
   "display_name": "Python 3.8.3 64-bit",
   "metadata": {
    "interpreter": {
     "hash": "5fa5ee42bf3228b81d4a8abbd34e3ac789ee757ba3f727da7fa189fb0ce61fcf"
    }
   }
  }
 },
 "nbformat": 4,
 "nbformat_minor": 2,
 "cells": [
  {
   "cell_type": "code",
   "execution_count": 1,
   "metadata": {},
   "outputs": [
    {
     "output_type": "stream",
     "name": "stdout",
     "text": [
      "Overwriting D:\\myPyCode\\팀프로젝트\\netflix_Unofficial_API_module.py\n"
     ]
    }
   ],
   "source": [
    "%%writefile D:\\myPyCode\\팀프로젝트\\netflix_Unofficial_API_module.py\n",
    "\n",
    "import requests\n",
    "import pandas as pd\n",
    "# from bs4 import BeautifulSoup\n",
    "# import urllib.request\n",
    "import json\n",
    "\n",
    "url = \"https://netflix-unofficial.p.rapidapi.com/api/\"\n",
    "\n",
    "\n",
    "select_netflix_mode = ['genres','search','countries']\n",
    "# genres,countries = 항목별 뽑아야한다.\n",
    "# search = 분류로 나눠야 한다.\n",
    "\n",
    "\n",
    "headers = {\n",
    "    'x-rapidapi-key': \"c05cbb963bmshc6a47b50ae8c81cp167c7bjsn5f651e0b6361\",\n",
    "    'x-rapidapi-host': \"netflix-unofficial.p.rapidapi.com\"\n",
    "    }\n",
    "\n",
    "netflix_data = requests.request(\"GET\", url+select_netflix_mode[1], headers=headers).json()\n",
    "\n",
    "print(netflix_data)\n",
    "\n",
    "def netflix_init():\n",
    "    netflix_keys_list = ['title']\n",
    "    \n",
    "    for a in json.loads(netflix_data[\"\"]).keys() :\n",
    "        netflix_keys_list.append(a)\n",
    "        \n",
    "    f = open(\"netflix_unofficial.csv\",\"w\",-1,\"utf-8\")\n",
    "    for i in netflix_keys_list : \n",
    "        f.write(i+',')\n",
    "    f.write('\\n')\n",
    "\n",
    "    for data_title in netflix_data.keys() :\n",
    "        f.write(data_title.replace(',',\" \")+',')\n",
    "        data_get_key = json.loads(netflix_data[data_title])\n",
    "        for get_key in netflix_keys_list[1:] :\n",
    "            f.write(str(data_get_key[get_key]).replace(',',' ')+',')\n",
    "\n",
    "            # print(data_get_key[get_key])\n",
    "        f.write('\\n')\n",
    "\n",
    "    f.close()\n",
    "\n",
    "\n",
    "\n"
   ]
  },
  {
   "cell_type": "code",
   "execution_count": 6,
   "metadata": {},
   "outputs": [
    {
     "output_type": "stream",
     "name": "stdout",
     "text": [
      "Overwriting D:\\myPyCode\\팀프로젝트\\netflix_frame_module.py\n"
     ]
    }
   ],
   "source": [
    "%%writefile D:\\myPyCode\\팀프로젝트\\netflix_frame_module.py\n",
    "\n",
    "import pandas as pd\n",
    "import numpy as np\n",
    "from matplotlib import pyplot as plt\n",
    "import csv\n",
    "\n",
    "df = pd.read_csv(\"netflix_titles.csv\",encoding=\"latin1\")\n",
    "select = pd.DataFrame(df,columns = ['show_id', 'type', 'title', 'date_added','release_year', 'rating',    \n",
    "'duration','listed_in', 'description'])\n",
    "\n",
    "# 날짜별순으로 값 원하는 값 뽑아내기 (type과 key값 )\n",
    "def netflix_date_selection(select_col,Name) :\n",
    "    #select.sort_values(by = ['release_year','date_added']) 날짜별로 구분하기\n",
    "    selection = select[select[select_col] == Name].sort_values(by = ['release_year','date_added'])\n",
    "    #select[select[select_col] == Name] Name과 같은 select key값을 뽑아낸다.\n",
    "    return selection\n",
    "\n",
    "# 날짜순으로 타입안에 원하는 문자포함되어 있는 행 뽑아내기\n",
    "def netflix_data_findword(position,Name) :\n",
    "    find_line = select.loc[select[position].str.contains(Name)].sort_values(by = ['release_year','date_added'])\n",
    "    return find_line\n",
    "\n",
    "# 데이터프레임에서 반복 갯수세기\n",
    "def netflix_count(netflix_dataframe,collect_type) :\n",
    "    collect_lists = netflix_dataframe[collect_type].value_counts()\n",
    "    return collect_lists\n",
    "\n",
    "# def circle_grape(label_X,label_Y):\n",
    "#     plt.pie(label_X)\n",
    "#     plt.pie(label_X, labels=label_Y, autopct='%0.1f%%')\n",
    "#     plt.show()\n",
    "\n",
    "def analyze_netflix_year(data_X,data_Y,data_title):\n",
    "    p1 = plt.plot(data_X,data_Y,'r^--',label=data_title)\n",
    "    plt.legend()\n",
    "    plt.show()\n",
    "\n",
    "\n",
    "# 산점도 그래프 그리기\n",
    "def circle_3D_grape(X,Y,Z):\n",
    "    ax = plt.figure().add_subplot(111,projection='3d')\n",
    "    ax.scatter(X,Y,Z)\n",
    "\n",
    "    ax.set_xlabel('year')\n",
    "    ax.set_ylabel('type')\n",
    "    ax.set_zlabel('age')\n",
    "    plt.suptitle('aaaa',fontsize=16)\n",
    "    plt.show()\n",
    "\n"
   ]
  },
  {
   "cell_type": "code",
   "execution_count": 1,
   "metadata": {},
   "outputs": [
    {
     "output_type": "stream",
     "name": "stdout",
     "text": [
      "d:\\myPyCode\\팀프로젝트\n"
     ]
    }
   ],
   "source": [
    "cd d:\\myPyCode\\팀프로젝트"
   ]
  },
  {
   "cell_type": "code",
   "execution_count": 3,
   "metadata": {},
   "outputs": [],
   "source": [
    "%matplotlib tk\n",
    "\n",
    "import pandas as pd\n",
    "import numpy as np\n",
    "from matplotlib import pyplot as plt\n",
    "from netflix_frame_module import *\n",
    "from netflix_Unofficial_API_module import netflix_init\n",
    "\n",
    "comedy_lists = []\n",
    "comedy_count = []\n",
    "\n",
    "comedy_pullout = netflix_data_findword('listed_in','Comed')\n",
    "comedy_count = netflix_count(comedy_pullout,'release_year')\n",
    "comedy_lists = netflix_count(comedy_pullout,'release_year').keys()\n",
    "comedy_count = dict(sorted(comedy_count.items(),reverse=True))\n",
    "analyze_netflix_year(list(comedy_count.keys()),list(comedy_count.values()),'comedy')\n",
    "\n",
    "# plt.subplot(2,2,1)\n",
    "# circle_grape(comedy_count,comedy_lists)\n",
    "# plt.title(\"comedy\")\n",
    "# plt.subplot(2,2,2)\n",
    "# circle_grape(comedy_count,comedy_lists)\n"
   ]
  },
  {
   "cell_type": "code",
   "execution_count": null,
   "metadata": {},
   "outputs": [],
   "source": [
    "# import matplotlib.pyplot as plt\n",
    "# import numpy as np\n",
    "\n",
    "# ax = plt.figure().add_subplot(111,projection='3d')\n",
    "\n",
    "# X = [1,2,3,5,4]\n",
    "# Y = [1,2,3,4,5]\n",
    "# Z = [1,2,3,6,8]\n",
    "\n",
    "# ax.scatter(X,Y,Z)\n",
    "\n",
    "# ax.set_xlabel('year')\n",
    "# ax.set_ylabel('type')\n",
    "# ax.set_zlabel('age')\n",
    "# plt.suptitle('aaaa',fontsize=16)\n",
    "# plt.show()\n",
    "\n",
    "\n",
    "\n"
   ]
  },
  {
   "cell_type": "code",
   "execution_count": 23,
   "metadata": {},
   "outputs": [],
   "source": [
    "# import matplotlib.pyplot as plt\n",
    "# import csv\n",
    "\n",
    "# X = [1,2,3,5,4]\n",
    "# Y = [1,2,3,4,5]\n",
    "\n",
    "# p1 = plt.plot(X,Y,'r^--',label='femaie')\n",
    "# plt.legend()\n",
    "# plt.show()"
   ]
  }
 ]
}