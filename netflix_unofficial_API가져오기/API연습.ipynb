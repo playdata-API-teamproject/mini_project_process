{
 "metadata": {
  "language_info": {
   "codemirror_mode": {
    "name": "ipython",
    "version": 3
   },
   "file_extension": ".py",
   "mimetype": "text/x-python",
   "name": "python",
   "nbconvert_exporter": "python",
   "pygments_lexer": "ipython3",
   "version": "3.8.3-final"
  },
  "orig_nbformat": 2,
  "kernelspec": {
   "name": "Python 3.8.3 64-bit",
   "display_name": "Python 3.8.3 64-bit",
   "metadata": {
    "interpreter": {
     "hash": "5fa5ee42bf3228b81d4a8abbd34e3ac789ee757ba3f727da7fa189fb0ce61fcf"
    }
   }
  }
 },
 "nbformat": 4,
 "nbformat_minor": 2,
 "cells": [
  {
   "cell_type": "code",
   "execution_count": 8,
   "metadata": {},
   "outputs": [
    {
     "output_type": "stream",
     "name": "stdout",
     "text": [
      "d:\\myPyCode\\팀프로젝트\n"
     ]
    }
   ],
   "source": [
    "cd d:\\myPyCode\\팀프로젝트"
   ]
  },
  {
   "cell_type": "code",
   "execution_count": 9,
   "metadata": {
    "tags": []
   },
   "outputs": [
    {
     "output_type": "stream",
     "name": "stdout",
     "text": [
      "{'data': ['Albania', 'Algeria', 'Argentina', 'Armenia', 'Australia', 'Austria', 'Bangladesh', 'Belgium', 'Bermuda', 'Botswana', 'Brazil', 'Bulgaria', 'Cambodia', 'Canada', 'Cayman Islands', 'Chile', 'China', 'Colombia', 'Croatia', 'Czech Republic', 'Denmark', 'Dominican Republic', 'East Germany', 'Ecuador', 'Egypt', 'Finland', 'France', 'Georgia', 'Germany', 'Ghana', 'Greece', 'Guatemala', 'Hong Kong', 'Hungary', 'Iceland', 'India', 'Indonesia', 'Iran', 'Iraq', 'Ireland', 'Israel', 'Italy', 'Jamaica', 'Japan', 'Jordan', 'Kazakhstan', 'Kenya', 'Kuwait', 'Lebanon', 'Luxembourg', 'Malawi', 'Malaysia', 'Malta', 'Mexico', 'Mongolia', 'Montenegro', 'Morocco', 'Namibia', 'Nepal', 'Netherlands', 'New Zealand', 'Nigeria', 'Norway', 'Pakistan', 'Paraguay', 'Peru', 'Philippines', 'Poland', 'Portugal', 'Qatar', 'Romania', 'Russia', 'Saudi Arabia', 'Senegal', 'Serbia', 'Singapore', 'Slovakia', 'Slovenia', 'South Africa', 'South Korea', 'Soviet Union', 'Spain', 'Sri Lanka', 'Sweden', 'Switzerland', 'Taiwan', 'Thailand', 'Tunisia', 'Turkey', 'Uganda', 'Ukraine', 'United Arab Emirates', 'United Kingdom', 'United States', 'Uruguay', 'Venezuela', 'Vietnam', 'West Germany', 'Zimbabwe']}\nAlbania\n99\n"
     ]
    }
   ],
   "source": [
    "import requests\n",
    "import pandas as pd\n",
    "from bs4 import BeautifulSoup\n",
    "\n",
    "url = \"https://netflix-unofficial.p.rapidapi.com/api/\"\n",
    "\n",
    "select_netflix_mode = ['genres','search','countries']\n",
    "# genres,countries = 항목별 뽑아야한다. -> 쓸대없는데?? 그냥 나라별로 뽑았고, 장르별로 있는거 추출한게 다임 비교할때 저걸로 해야할 이유가 있을까 싶긴 한데 뽑는 방법은 이거다.\n",
    "# search = 분류로 나눠야 한다.\n",
    "\n",
    "\n",
    "headers = {\n",
    "    'x-rapidapi-key': \"c05cbb963bmshc6a47b50ae8c81cp167c7bjsn5f651e0b6361\",\n",
    "    'x-rapidapi-host': \"netflix-unofficial.p.rapidapi.com\"\n",
    "    }\n",
    "\n",
    "response = requests.request(\"GET\", url+select_netflix_mode[2], headers=headers)\n",
    "print(response.json())\n",
    "data1 = response.json()   # json형태로 뽑아야 text보단 뽑기 쉬울것같아요\n",
    "print(data1['data'][0])   # 한개 뽑기\n",
    "print(len(data1['data']))  # for문 돌려서 하나씩 비교 하는것도 해볼수 잇을것 같다.\n",
    "\n"
   ]
  },
  {
   "cell_type": "code",
   "execution_count": 122,
   "metadata": {},
   "outputs": [],
   "source": [
    "# %%writefile D:\\myPyCode\\팀프로젝트\\netflix_Unofficial_API_module.py\n",
    "\n",
    "import requests\n",
    "import pandas as pd\n",
    "from bs4 import BeautifulSoup\n",
    "import urllib.request\n",
    "import json\n",
    "\n",
    "url = \"https://netflix-unofficial.p.rapidapi.com/api/\"\n",
    "\n",
    "\n",
    "select_netflix_mode = ['genres','search','countries']\n",
    "# genres,countries = 항목별 뽑아야한다.\n",
    "# search = 분류로 나눠야 한다.\n",
    "\n",
    "\n",
    "headers = {\n",
    "    'x-rapidapi-key': \"c05cbb963bmshc6a47b50ae8c81cp167c7bjsn5f651e0b6361\",\n",
    "    'x-rapidapi-host': \"netflix-unofficial.p.rapidapi.com\"\n",
    "    }\n",
    "\n",
    "netflix_data = requests.request(\"GET\", url+select_netflix_mode[1], headers=headers).json()\n",
    "\n",
    "# print(netflix_data)\n",
    "#print(netflix_data.keys()) 딕셔너리 키값이라고 보면 됨\n",
    "\n",
    "#json 변환 후 key값 뽑기\n",
    "# netflix = json.loads(netflix_data[\"\"]) \n",
    "# print(netflix.keys())\n",
    "\n",
    "# print(netflix_data[\"\"])\n",
    "\n",
    "# for get_key in netflix_data.keys() :\n",
    "#     get_element = json.loads(netflix_data[get_key])\n",
    "#     print(get_element.values())\n",
    "# print(netflix_data)\n",
    "\n",
    "def netflix_init():\n",
    "    netflix_keys_list = ['title']\n",
    "    for a in json.loads(netflix_data[\"\"]).keys() :\n",
    "        netflix_keys_list.append(a)\n",
    "        \n",
    "    f = open(\"netflix_unofficial.csv\",\"w\",-1,\"utf-8\")\n",
    "    for i in netflix_keys_list : \n",
    "        f.write(i+',')\n",
    "    f.write('\\n')\n",
    "\n",
    "    for data_title in netflix_data.keys() :\n",
    "        f.write(data_title.replace(',',\" \")+',')\n",
    "        data_get_key = json.loads(netflix_data[data_title])\n",
    "        for get_key in netflix_keys_list[1:] :\n",
    "            f.write(str(data_get_key[get_key]).replace(',',' ')+',')\n",
    "\n",
    "            # print(data_get_key[get_key])\n",
    "        f.write('\\n')\n",
    "\n",
    "    f.close()\n",
    "\n",
    "\n",
    "netflix_init()\n",
    "\n"
   ]
  },
  {
   "cell_type": "code",
   "execution_count": null,
   "metadata": {},
   "outputs": [],
   "source": []
  }
 ]
}